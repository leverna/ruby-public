{
  "nbformat": 4,
  "nbformat_minor": 0,
  "metadata": {
    "colab": {
      "name": "IDT_Oligo.ipynb",
      "provenance": [],
      "collapsed_sections": [],
      "authorship_tag": "ABX9TyNAXc27tBOjpU4s19lP3xfH",
      "include_colab_link": true
    },
    "kernelspec": {
      "name": "python3",
      "display_name": "Python 3"
    },
    "language_info": {
      "name": "python"
    }
  },
  "cells": [
    {
      "cell_type": "markdown",
      "metadata": {
        "id": "view-in-github",
        "colab_type": "text"
      },
      "source": [
        "<a href=\"https://colab.research.google.com/github/leverna/ruby-public/blob/main/IDT_Oligo.ipynb\" target=\"_parent\"><img src=\"https://colab.research.google.com/assets/colab-badge.svg\" alt=\"Open In Colab\"/></a>"
      ]
    },
    {
      "cell_type": "code",
      "source": [
        "def genIDTnotation(oligo):\n",
        "  idt = '/5'\n",
        "  mod = '2MOEr'\n",
        "  linker = '/*/'\n",
        "  for n in oligo:\n",
        "    idt += f'{mod}{n}{linker}'\n",
        "\n",
        "  idt = idt[:-3] + '/'\n",
        "  return (idt)\n",
        "\n"
      ],
      "metadata": {
        "id": "PdIkCSHgW2HV"
      },
      "execution_count": null,
      "outputs": []
    },
    {
      "cell_type": "code",
      "source": [
        "oligo = 'TAACGGCTAGCCT'\n",
        "print (genIDTnotation(oligo))"
      ],
      "metadata": {
        "colab": {
          "base_uri": "https://localhost:8080/"
        },
        "id": "nXbCd-2qbKwr",
        "outputId": "c0c34524-fca0-48b3-c369-1834a4faf568"
      },
      "execution_count": null,
      "outputs": [
        {
          "output_type": "stream",
          "name": "stdout",
          "text": [
            "/52MOErT/*/2MOErA/*/2MOErA/*/2MOErC/*/2MOErG/*/2MOErG/*/2MOErC/*/2MOErT/*/2MOErA/*/2MOErG/*/2MOErC/*/2MOErC/*/2MOErT/\n"
          ]
        }
      ]
    },
    {
      "cell_type": "code",
      "source": [
        "# paste some oligos into content/oligos.txt\n",
        "with open ('/content/oligos.txt') as infile:\n",
        "  for line in infile:\n",
        "    print(genIDTnotation(line.strip()))"
      ],
      "metadata": {
        "colab": {
          "base_uri": "https://localhost:8080/"
        },
        "id": "h6lD-GsDbK_U",
        "outputId": "f2ae28f7-8019-470b-c756-b0891265fd92"
      },
      "execution_count": null,
      "outputs": [
        {
          "output_type": "stream",
          "name": "stdout",
          "text": [
            "/52MOErT/*/2MOErA/*/2MOErA/*/2MOErC/*/2MOErG/*/2MOErG/*/2MOErC/*/2MOErT/*/2MOErA/*/2MOErG/*/2MOErC/*/2MOErC/*/2MOErT/\n",
            "/52MOErA/*/2MOErA/*/2MOErC/*/2MOErG/*/2MOErG/*/2MOErC/*/2MOErT/*/2MOErA/*/2MOErG/*/2MOErC/*/2MOErC/*/2MOErT/\n",
            "/52MOErA/*/2MOErC/*/2MOErG/*/2MOErG/*/2MOErC/*/2MOErT/*/2MOErA/*/2MOErG/*/2MOErC/*/2MOErC/*/2MOErT/\n",
            "/52MOErC/*/2MOErG/*/2MOErG/*/2MOErC/*/2MOErT/*/2MOErA/*/2MOErG/*/2MOErC/*/2MOErC/*/2MOErT/\n"
          ]
        }
      ]
    }
  ]
}